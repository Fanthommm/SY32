{
 "cells": [
  {
   "cell_type": "code",
   "execution_count": 21,
   "source": [
    "import numpy as np\r\n",
    "X_train = np . loadtxt ('cat_data_X.csv ', ndmin =2)\r\n",
    "y_train = np . loadtxt ('cat_data_y.csv ')"
   ],
   "outputs": [],
   "metadata": {}
  },
  {
   "cell_type": "code",
   "execution_count": 12,
   "source": [
    "print(f\"Quantité de chats : {y_train.size}\")\r\n",
    "print(f\"Quantité de chats de type A : {y_train[y_train==1].shape}\")\r\n",
    "print(f\"Quantité de chats de type B : {y_train[y_train==-1].shape}\")"
   ],
   "outputs": [
    {
     "output_type": "stream",
     "name": "stdout",
     "text": [
      "Quantité de chats : 300\n",
      "Quantité de chats de type A : (199,)\n",
      "Quantité de chats de type B : (101,)\n"
     ]
    }
   ],
   "metadata": {}
  },
  {
   "cell_type": "code",
   "execution_count": 17,
   "source": [
    "print(f\"Poids mini : {X_train[np.argmin(X_train)]}\")\r\n",
    "print(f\"Poids max : {X_train[np.argmax(X_train)]}\")\r\n",
    "print(f\"Poids médian : {np.mean(X_train)}\")"
   ],
   "outputs": [
    {
     "output_type": "stream",
     "name": "stdout",
     "text": [
      "Poids mini : [1.7]\n",
      "Poids max : [8.53]\n",
      "Poids médian : 5.399633333333333\n"
     ]
    }
   ],
   "metadata": {}
  },
  {
   "cell_type": "code",
   "execution_count": 19,
   "source": [
    "print(f\"Poids mini chat A : {X_train[np.argmin(X_train[y_train==1])]}\")\r\n",
    "print(f\"Poids max chat A : {X_train[np.argmax(X_train[y_train==1])]}\")\r\n",
    "print(f\"Poids médian chat A : {np.mean(X_train[y_train==1])}\")"
   ],
   "outputs": [
    {
     "output_type": "stream",
     "name": "stdout",
     "text": [
      "Poids mini chat A : [4.04]\n",
      "Poids max chat A : [4.86]\n",
      "Poids médian chat A : 6.078743718592965\n"
     ]
    }
   ],
   "metadata": {}
  },
  {
   "cell_type": "code",
   "execution_count": 20,
   "source": [
    "print(f\"Poids mini chat A : {X_train[np.argmin(X_train[y_train==-1])]}\")\r\n",
    "print(f\"Poids max chat A : {X_train[np.argmax(X_train[y_train==-1])]}\")\r\n",
    "print(f\"Poids médian chat A : {np.mean(X_train[y_train==-1])}\")"
   ],
   "outputs": [
    {
     "output_type": "stream",
     "name": "stdout",
     "text": [
      "Poids mini chat A : [4.62]\n",
      "Poids max chat A : [4.32]\n",
      "Poids médian chat A : 4.061584158415842\n"
     ]
    }
   ],
   "metadata": {}
  },
  {
   "cell_type": "code",
   "execution_count": 141,
   "source": [
    "# -*- coding: utf-8 -*-\r\n",
    "\"\"\"\r\n",
    "SY32 : Vision et apprentissage\r\n",
    "Printemps 2020\r\n",
    "\r\n",
    "TD01 : Apprentissage automatique\r\n",
    "\"\"\"\r\n",
    "\r\n",
    "import numpy as np\r\n",
    "\r\n",
    "class CatClassifier():\r\n",
    "    \"\"\" Classifieur de chats \r\n",
    "    \r\n",
    "    On distingue deux types de chat : type A (-1) et type B (+1).\r\n",
    "    On classifie les chats en fonction de leur poids x à l'aide du classifier\r\n",
    "    f_h défini telle que : f_h(x) = -1 si x <= h et +1 sinon.\r\n",
    "    \r\n",
    "    Parameters\r\n",
    "    ----------\r\n",
    "    \r\n",
    "    Attributes\r\n",
    "    ----------\r\n",
    "    h_hat : float\r\n",
    "            Valeur optimale de h.\r\n",
    "    \r\n",
    "    \"\"\"\r\n",
    "    \r\n",
    "    h_hat = -np.Inf\r\n",
    "    \r\n",
    "    def __init__(self):\r\n",
    "        pass\r\n",
    "    \r\n",
    "    def predict(self, X, h=None):\r\n",
    "        \"\"\"\r\n",
    "        Prédit le type de chat pour les poids X et le paramètre h\r\n",
    "        \r\n",
    "        Parameters\r\n",
    "        ----------\r\n",
    "        X : array-like of shape (n_sample, n_features)\r\n",
    "            Poids des chats\r\n",
    "        \r\n",
    "        h : float (default=h_hat)\r\n",
    "            Paramètre de décision \r\n",
    "        \r\n",
    "        Returns\r\n",
    "        -------\r\n",
    "        y : array-like of shape (n_samples,)\r\n",
    "            Type des chats\r\n",
    "        \"\"\"\r\n",
    "        if h is None:\r\n",
    "            h = self.h_hat\r\n",
    "        \r\n",
    "        y = []\r\n",
    "\r\n",
    "        for item in X:\r\n",
    "            if item <= h :\r\n",
    "                y.append(-1)\r\n",
    "            else:\r\n",
    "                y.append(1)\r\n",
    "\r\n",
    "        return np.array(y)\r\n",
    "    \r\n",
    "    def err_emp(self, X, y, h=None):\r\n",
    "        \"\"\"\r\n",
    "        Calcule l'erreur empirique de f_h sur l'ensemble (X,y).\r\n",
    "\r\n",
    "        Parameters\r\n",
    "        ----------\r\n",
    "        X : array-like of shape (n_sample, n_features)\r\n",
    "            Poids des chats\r\n",
    "            \r\n",
    "        y : array-like of shape (n_samples,)\r\n",
    "            Type des chats\r\n",
    "            \r\n",
    "        h : float (default=h_hat)\r\n",
    "            Paramètre de décision \r\n",
    "\r\n",
    "        Returns\r\n",
    "        -------\r\n",
    "        erreur : float\r\n",
    "                 Erreur empirique\r\n",
    "\r\n",
    "        \"\"\"\r\n",
    "        if h is None:\r\n",
    "            h = self.h_hat\r\n",
    "        \r\n",
    "        nb_errors = 0\r\n",
    "\r\n",
    "        prediction = self.predict(X,h)\r\n",
    "\r\n",
    "        for i in range(prediction.size):\r\n",
    "            if prediction[i]!=y[i]:\r\n",
    "                nb_errors+=1\r\n",
    "\r\n",
    "        return nb_errors/prediction.size\r\n",
    "    \r\n",
    "    def fit(self, X, y):\r\n",
    "        \"\"\"\r\n",
    "        Calcule la valeur optimale de h sur l'ensemble (X,y).\r\n",
    "        L'attribut h_hat est mis à jour.'\r\n",
    "        \r\n",
    "        Parameters\r\n",
    "        ----------\r\n",
    "        X : array-like of shape (n_sample, n_features)\r\n",
    "            Poids des chats\r\n",
    "        \r\n",
    "        y : array-like of shape (n_samples,)\r\n",
    "            Type des chats\r\n",
    "        \r\n",
    "        Returns\r\n",
    "        -------\r\n",
    "        self : object\r\n",
    "        \"\"\"\r\n",
    "        h_var=0\r\n",
    "        prev_err = self.err_emp(X=X,y=y,h=h_var)\r\n",
    "        best_err = prev_err\r\n",
    "\r\n",
    "        while h_var<np.argmax(X_train):\r\n",
    "            h_var += 0.01\r\n",
    "            err = self.err_emp(X=X,y=y,h=h_var)\r\n",
    "            #print(f\"h_var : {h_var} err : {err}\")\r\n",
    "\r\n",
    "            if err < best_err:\r\n",
    "                best_err = err\r\n",
    "                self.h_hat = h_var\r\n",
    "\r\n",
    "            prev_err = err\r\n",
    "        \r\n",
    "\r\n",
    "        return self\r\n",
    "        pass"
   ],
   "outputs": [],
   "metadata": {}
  },
  {
   "cell_type": "code",
   "execution_count": 142,
   "source": [
    "clf = CatClassifier()"
   ],
   "outputs": [],
   "metadata": {}
  },
  {
   "cell_type": "code",
   "execution_count": null,
   "source": [
    "clf.predict(X=X_train,h=5)"
   ],
   "outputs": [],
   "metadata": {}
  },
  {
   "cell_type": "code",
   "execution_count": 65,
   "source": [
    "print(clf.err_emp(X=X_train,y=y_train,h=5))"
   ],
   "outputs": [
    {
     "output_type": "stream",
     "name": "stdout",
     "text": [
      "0.15333333333333332\n"
     ]
    }
   ],
   "metadata": {}
  },
  {
   "cell_type": "code",
   "execution_count": null,
   "source": [
    "for i in range(np.argmax(X_train)):\r\n",
    "    print(clf.err_emp(X=X_train,y=y_train,h=i))\r\n",
    "    print(i)"
   ],
   "outputs": [],
   "metadata": {}
  },
  {
   "cell_type": "code",
   "execution_count": 112,
   "source": [
    "clf.fit ( X_train , y_train )\r\n",
    "print ( clf.h_hat )"
   ],
   "outputs": [
    {
     "output_type": "stream",
     "name": "stdout",
     "text": [
      "4.599999999999946\n"
     ]
    }
   ],
   "metadata": {}
  },
  {
   "cell_type": "code",
   "execution_count": 116,
   "source": [
    "print ( clf.err_emp ( X_train , y_train ))"
   ],
   "outputs": [
    {
     "output_type": "stream",
     "name": "stdout",
     "text": [
      "0.12666666666666668\n"
     ]
    }
   ],
   "metadata": {}
  },
  {
   "cell_type": "code",
   "execution_count": 146,
   "source": [
    "from sklearn.model_selection import KFold\r\n",
    "\r\n",
    "def validation_croisee(X, y, K):\r\n",
    "    h_hats = []\r\n",
    "\r\n",
    "    kf = KFold(K)\r\n",
    "    for train_index, test_index in kf.split(X):\r\n",
    "        #print(\"TRAIN:\", train_index, \"TEST:\", test_index)\r\n",
    "        X_train, X_test = X[train_index], X[test_index]\r\n",
    "        y_train, y_test = y[train_index], y[test_index]   \r\n",
    "\r\n",
    "        slice_clf = CatClassifier()\r\n",
    "        slice_clf.fit(X_train,y_train)\r\n",
    "        print(f\"H hat : {slice_clf.h_hat}\")\r\n",
    "        h_hats.append(slice_clf.h_hat)\r\n",
    "        print(f\"Erreur : {slice_clf.err_emp (X_test , y_test)}\")\r\n",
    "\r\n",
    "    return np.mean(np.array(h_hats))\r\n",
    "\r\n",
    "validation_croisee(X_train, y_train, 5)"
   ],
   "outputs": [
    {
     "output_type": "stream",
     "name": "stdout",
     "text": [
      "H hat : 4.599999999999946\n",
      "Erreur : 0.15\n",
      "H hat : 4.599999999999946\n",
      "Erreur : 0.15\n",
      "H hat : 4.519999999999948\n",
      "Erreur : 0.1\n",
      "H hat : 4.329999999999952\n",
      "Erreur : 0.16666666666666666\n",
      "H hat : 4.599999999999946\n",
      "Erreur : 0.16666666666666666\n"
     ]
    },
    {
     "output_type": "execute_result",
     "data": {
      "text/plain": [
       "4.529999999999947"
      ]
     },
     "metadata": {},
     "execution_count": 146
    }
   ],
   "metadata": {}
  },
  {
   "cell_type": "code",
   "execution_count": 151,
   "source": [
    "def var_fold(nb_fold, X, Y):\r\n",
    "    import matplotlib.pyplot as plt\r\n",
    "\r\n",
    "    clf = CatClassifier()\r\n",
    "    folds = np.array(range(1,nb_fold))\r\n",
    "    res = []\r\n",
    "\r\n",
    "    for i in folds:\r\n",
    "        t = validation_croisee(X, Y, i)\r\n",
    "        res.append(clf.err_emp(X, Y, t))\r\n",
    "\r\n",
    "    res = np.array(res)\r\n",
    "\r\n",
    "    plt.xlabel(\"nb folds\")\r\n",
    "    plt.ylabel(\"errors\")\r\n",
    "    plt.plot(folds, res, color = \"red\", marker = \"o\", label = \"Array elements\")\r\n",
    "    plt.legend()\r\n",
    "    plt.show()\r\n",
    "\r\n",
    "var_fold(10, X_train, y_train)\r\n"
   ],
   "outputs": [
    {
     "output_type": "error",
     "ename": "ValueError",
     "evalue": "k-fold cross-validation requires at least one train/test split by setting n_splits=2 or more, got n_splits=1.",
     "traceback": [
      "\u001b[1;31m---------------------------------------------------------------------------\u001b[0m",
      "\u001b[1;31mValueError\u001b[0m                                Traceback (most recent call last)",
      "Cell \u001b[1;32mIn[151], line 20\u001b[0m\n\u001b[0;32m     17\u001b[0m     plt\u001b[38;5;241m.\u001b[39mlegend()\n\u001b[0;32m     18\u001b[0m     plt\u001b[38;5;241m.\u001b[39mshow()\n\u001b[1;32m---> 20\u001b[0m \u001b[43mvar_fold\u001b[49m\u001b[43m(\u001b[49m\u001b[38;5;241;43m10\u001b[39;49m\u001b[43m,\u001b[49m\u001b[43m \u001b[49m\u001b[43mX_train\u001b[49m\u001b[43m,\u001b[49m\u001b[43m \u001b[49m\u001b[43my_train\u001b[49m\u001b[43m)\u001b[49m\n",
      "Cell \u001b[1;32mIn[151], line 9\u001b[0m, in \u001b[0;36mvar_fold\u001b[1;34m(nb_fold, X, Y)\u001b[0m\n\u001b[0;32m      6\u001b[0m res \u001b[38;5;241m=\u001b[39m []\n\u001b[0;32m      8\u001b[0m \u001b[38;5;28;01mfor\u001b[39;00m i \u001b[38;5;129;01min\u001b[39;00m folds:\n\u001b[1;32m----> 9\u001b[0m     t \u001b[38;5;241m=\u001b[39m \u001b[43mvalidation_croisee\u001b[49m\u001b[43m(\u001b[49m\u001b[43mX\u001b[49m\u001b[43m,\u001b[49m\u001b[43m \u001b[49m\u001b[43mY\u001b[49m\u001b[43m,\u001b[49m\u001b[43m \u001b[49m\u001b[43mi\u001b[49m\u001b[43m)\u001b[49m\n\u001b[0;32m     10\u001b[0m     res\u001b[38;5;241m.\u001b[39mappend(clf\u001b[38;5;241m.\u001b[39merr_emp(X, Y, t))\n\u001b[0;32m     12\u001b[0m res \u001b[38;5;241m=\u001b[39m np\u001b[38;5;241m.\u001b[39marray(res)\n",
      "Cell \u001b[1;32mIn[146], line 6\u001b[0m, in \u001b[0;36mvalidation_croisee\u001b[1;34m(X, y, K)\u001b[0m\n\u001b[0;32m      3\u001b[0m \u001b[38;5;28;01mdef\u001b[39;00m \u001b[38;5;21mvalidation_croisee\u001b[39m(X, y, K):\n\u001b[0;32m      4\u001b[0m     h_hats \u001b[38;5;241m=\u001b[39m []\n\u001b[1;32m----> 6\u001b[0m     kf \u001b[38;5;241m=\u001b[39m \u001b[43mKFold\u001b[49m\u001b[43m(\u001b[49m\u001b[43mK\u001b[49m\u001b[43m)\u001b[49m\n\u001b[0;32m      7\u001b[0m     \u001b[38;5;28;01mfor\u001b[39;00m train_index, test_index \u001b[38;5;129;01min\u001b[39;00m kf\u001b[38;5;241m.\u001b[39msplit(X):\n\u001b[0;32m      8\u001b[0m         \u001b[38;5;66;03m#print(\"TRAIN:\", train_index, \"TEST:\", test_index)\u001b[39;00m\n\u001b[0;32m      9\u001b[0m         X_train, X_test \u001b[38;5;241m=\u001b[39m X[train_index], X[test_index]\n",
      "File \u001b[1;32mC:\\Program Files\\Python310\\lib\\site-packages\\sklearn\\model_selection\\_split.py:451\u001b[0m, in \u001b[0;36mKFold.__init__\u001b[1;34m(self, n_splits, shuffle, random_state)\u001b[0m\n\u001b[0;32m    450\u001b[0m \u001b[38;5;28;01mdef\u001b[39;00m \u001b[38;5;21m__init__\u001b[39m(\u001b[38;5;28mself\u001b[39m, n_splits\u001b[38;5;241m=\u001b[39m\u001b[38;5;241m5\u001b[39m, \u001b[38;5;241m*\u001b[39m, shuffle\u001b[38;5;241m=\u001b[39m\u001b[38;5;28;01mFalse\u001b[39;00m, random_state\u001b[38;5;241m=\u001b[39m\u001b[38;5;28;01mNone\u001b[39;00m):\n\u001b[1;32m--> 451\u001b[0m     \u001b[38;5;28;43msuper\u001b[39;49m\u001b[43m(\u001b[49m\u001b[43m)\u001b[49m\u001b[38;5;241;43m.\u001b[39;49m\u001b[38;5;21;43m__init__\u001b[39;49m\u001b[43m(\u001b[49m\u001b[43mn_splits\u001b[49m\u001b[38;5;241;43m=\u001b[39;49m\u001b[43mn_splits\u001b[49m\u001b[43m,\u001b[49m\u001b[43m \u001b[49m\u001b[43mshuffle\u001b[49m\u001b[38;5;241;43m=\u001b[39;49m\u001b[43mshuffle\u001b[49m\u001b[43m,\u001b[49m\u001b[43m \u001b[49m\u001b[43mrandom_state\u001b[49m\u001b[38;5;241;43m=\u001b[39;49m\u001b[43mrandom_state\u001b[49m\u001b[43m)\u001b[49m\n",
      "File \u001b[1;32mC:\\Program Files\\Python310\\lib\\site-packages\\sklearn\\model_selection\\_split.py:298\u001b[0m, in \u001b[0;36m_BaseKFold.__init__\u001b[1;34m(self, n_splits, shuffle, random_state)\u001b[0m\n\u001b[0;32m    295\u001b[0m n_splits \u001b[38;5;241m=\u001b[39m \u001b[38;5;28mint\u001b[39m(n_splits)\n\u001b[0;32m    297\u001b[0m \u001b[38;5;28;01mif\u001b[39;00m n_splits \u001b[38;5;241m<\u001b[39m\u001b[38;5;241m=\u001b[39m \u001b[38;5;241m1\u001b[39m:\n\u001b[1;32m--> 298\u001b[0m     \u001b[38;5;28;01mraise\u001b[39;00m \u001b[38;5;167;01mValueError\u001b[39;00m(\n\u001b[0;32m    299\u001b[0m         \u001b[38;5;124m\"\u001b[39m\u001b[38;5;124mk-fold cross-validation requires at least one\u001b[39m\u001b[38;5;124m\"\u001b[39m\n\u001b[0;32m    300\u001b[0m         \u001b[38;5;124m\"\u001b[39m\u001b[38;5;124m train/test split by setting n_splits=2 or more,\u001b[39m\u001b[38;5;124m\"\u001b[39m\n\u001b[0;32m    301\u001b[0m         \u001b[38;5;124m\"\u001b[39m\u001b[38;5;124m got n_splits=\u001b[39m\u001b[38;5;132;01m{0}\u001b[39;00m\u001b[38;5;124m.\u001b[39m\u001b[38;5;124m\"\u001b[39m\u001b[38;5;241m.\u001b[39mformat(n_splits)\n\u001b[0;32m    302\u001b[0m     )\n\u001b[0;32m    304\u001b[0m \u001b[38;5;28;01mif\u001b[39;00m \u001b[38;5;129;01mnot\u001b[39;00m \u001b[38;5;28misinstance\u001b[39m(shuffle, \u001b[38;5;28mbool\u001b[39m):\n\u001b[0;32m    305\u001b[0m     \u001b[38;5;28;01mraise\u001b[39;00m \u001b[38;5;167;01mTypeError\u001b[39;00m(\u001b[38;5;124m\"\u001b[39m\u001b[38;5;124mshuffle must be True or False; got \u001b[39m\u001b[38;5;132;01m{0}\u001b[39;00m\u001b[38;5;124m\"\u001b[39m\u001b[38;5;241m.\u001b[39mformat(shuffle))\n",
      "\u001b[1;31mValueError\u001b[0m: k-fold cross-validation requires at least one train/test split by setting n_splits=2 or more, got n_splits=1."
     ]
    }
   ],
   "metadata": {}
  },
  {
   "cell_type": "code",
   "execution_count": null,
   "source": [],
   "outputs": [],
   "metadata": {}
  }
 ],
 "metadata": {
  "orig_nbformat": 4,
  "language_info": {
   "name": "python",
   "version": "3.10.9",
   "mimetype": "text/x-python",
   "codemirror_mode": {
    "name": "ipython",
    "version": 3
   },
   "pygments_lexer": "ipython3",
   "nbconvert_exporter": "python",
   "file_extension": ".py"
  },
  "kernelspec": {
   "name": "python3",
   "display_name": "Python 3.10.9 64-bit"
  },
  "interpreter": {
   "hash": "b89b5cfaba6639976dc87ff2fec6d58faec662063367e2c229c520fe71072417"
  }
 },
 "nbformat": 4,
 "nbformat_minor": 2
}